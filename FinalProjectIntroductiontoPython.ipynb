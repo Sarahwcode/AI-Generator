{
  "nbformat": 4,
  "nbformat_minor": 0,
  "metadata": {
    "colab": {
      "provenance": [],
      "authorship_tag": "ABX9TyMuwxb2P0Ki/fNhYJD4U2Vp",
      "include_colab_link": true
    },
    "kernelspec": {
      "name": "python3",
      "display_name": "Python 3"
    },
    "language_info": {
      "name": "python"
    }
  },
  "cells": [
    {
      "cell_type": "markdown",
      "metadata": {
        "id": "view-in-github",
        "colab_type": "text"
      },
      "source": [
        "<a href=\"https://colab.research.google.com/github/Sarahwcode/AI-Generator/blob/main/FinalProjectIntroductiontoPython.ipynb\" target=\"_parent\"><img src=\"https://colab.research.google.com/assets/colab-badge.svg\" alt=\"Open In Colab\"/></a>"
      ]
    },
    {
      "cell_type": "code",
      "execution_count": 2,
      "metadata": {
        "colab": {
          "base_uri": "https://localhost:8080/",
          "height": 210
        },
        "id": "RJ5RhZIbEA02",
        "outputId": "bc784014-208f-47f3-f814-2c8299f36c97"
      },
      "outputs": [
        {
          "output_type": "display_data",
          "data": {
            "text/plain": [
              "\u001b[35mWelcome to my Weather app!\u001b[0m\n"
            ],
            "text/html": [
              "<pre style=\"white-space:pre;overflow-x:auto;line-height:normal;font-family:Menlo,'DejaVu Sans Mono',consolas,'Courier New',monospace\"><span style=\"color: #800080; text-decoration-color: #800080\">Welcome to my Weather app!</span>\n",
              "</pre>\n"
            ]
          },
          "metadata": {}
        },
        {
          "output_type": "display_data",
          "data": {
            "text/plain": [
              "\n"
            ],
            "text/html": [
              "<pre style=\"white-space:pre;overflow-x:auto;line-height:normal;font-family:Menlo,'DejaVu Sans Mono',consolas,'Courier New',monospace\">\n",
              "</pre>\n"
            ]
          },
          "metadata": {}
        },
        {
          "name": "stdout",
          "output_type": "stream",
          "text": [
            "Enter a City: London\n"
          ]
        },
        {
          "output_type": "display_data",
          "data": {
            "text/plain": [
              "Today's temperature is \u001b[31m13ºC\u001b[0m.\n"
            ],
            "text/html": [
              "<pre style=\"white-space:pre;overflow-x:auto;line-height:normal;font-family:Menlo,'DejaVu Sans Mono',consolas,'Courier New',monospace\">Today's temperature is <span style=\"color: #800000; text-decoration-color: #800000\">13ºC</span>.\n",
              "</pre>\n"
            ]
          },
          "metadata": {}
        },
        {
          "output_type": "display_data",
          "data": {
            "text/plain": [
              "\n"
            ],
            "text/html": [
              "<pre style=\"white-space:pre;overflow-x:auto;line-height:normal;font-family:Menlo,'DejaVu Sans Mono',consolas,'Courier New',monospace\">\n",
              "</pre>\n"
            ]
          },
          "metadata": {}
        },
        {
          "output_type": "display_data",
          "data": {
            "text/plain": [
              "Forecast for the week ahead:\n"
            ],
            "text/html": [
              "<pre style=\"white-space:pre;overflow-x:auto;line-height:normal;font-family:Menlo,'DejaVu Sans Mono',consolas,'Courier New',monospace\">Forecast for the week ahead:\n",
              "</pre>\n"
            ]
          },
          "metadata": {}
        },
        {
          "output_type": "display_data",
          "data": {
            "text/plain": [
              "\u001b[34mMonday\u001b[0m: 13ºC\n"
            ],
            "text/html": [
              "<pre style=\"white-space:pre;overflow-x:auto;line-height:normal;font-family:Menlo,'DejaVu Sans Mono',consolas,'Courier New',monospace\"><span style=\"color: #000080; text-decoration-color: #000080\">Monday</span>: 13ºC\n",
              "</pre>\n"
            ]
          },
          "metadata": {}
        },
        {
          "output_type": "display_data",
          "data": {
            "text/plain": [
              "\u001b[34mTuesday\u001b[0m: 15ºC\n"
            ],
            "text/html": [
              "<pre style=\"white-space:pre;overflow-x:auto;line-height:normal;font-family:Menlo,'DejaVu Sans Mono',consolas,'Courier New',monospace\"><span style=\"color: #000080; text-decoration-color: #000080\">Tuesday</span>: 15ºC\n",
              "</pre>\n"
            ]
          },
          "metadata": {}
        },
        {
          "output_type": "display_data",
          "data": {
            "text/plain": [
              "\u001b[34mWednesday\u001b[0m: 14ºC\n"
            ],
            "text/html": [
              "<pre style=\"white-space:pre;overflow-x:auto;line-height:normal;font-family:Menlo,'DejaVu Sans Mono',consolas,'Courier New',monospace\"><span style=\"color: #000080; text-decoration-color: #000080\">Wednesday</span>: 14ºC\n",
              "</pre>\n"
            ]
          },
          "metadata": {}
        },
        {
          "output_type": "display_data",
          "data": {
            "text/plain": [
              "\u001b[34mThursday\u001b[0m: 13ºC\n"
            ],
            "text/html": [
              "<pre style=\"white-space:pre;overflow-x:auto;line-height:normal;font-family:Menlo,'DejaVu Sans Mono',consolas,'Courier New',monospace\"><span style=\"color: #000080; text-decoration-color: #000080\">Thursday</span>: 13ºC\n",
              "</pre>\n"
            ]
          },
          "metadata": {}
        },
        {
          "output_type": "display_data",
          "data": {
            "text/plain": [
              "\u001b[34mFriday\u001b[0m: 14ºC\n"
            ],
            "text/html": [
              "<pre style=\"white-space:pre;overflow-x:auto;line-height:normal;font-family:Menlo,'DejaVu Sans Mono',consolas,'Courier New',monospace\"><span style=\"color: #000080; text-decoration-color: #000080\">Friday</span>: 14ºC\n",
              "</pre>\n"
            ]
          },
          "metadata": {}
        },
        {
          "output_type": "display_data",
          "data": {
            "text/plain": [
              "\u001b[34mSaturday\u001b[0m: 16ºC\n"
            ],
            "text/html": [
              "<pre style=\"white-space:pre;overflow-x:auto;line-height:normal;font-family:Menlo,'DejaVu Sans Mono',consolas,'Courier New',monospace\"><span style=\"color: #000080; text-decoration-color: #000080\">Saturday</span>: 16ºC\n",
              "</pre>\n"
            ]
          },
          "metadata": {}
        },
        {
          "output_type": "display_data",
          "data": {
            "text/plain": [
              "\u001b[34mSunday\u001b[0m: 18ºC\n"
            ],
            "text/html": [
              "<pre style=\"white-space:pre;overflow-x:auto;line-height:normal;font-family:Menlo,'DejaVu Sans Mono',consolas,'Courier New',monospace\"><span style=\"color: #000080; text-decoration-color: #000080\">Sunday</span>: 18ºC\n",
              "</pre>\n"
            ]
          },
          "metadata": {}
        },
        {
          "output_type": "display_data",
          "data": {
            "text/plain": [
              "\n"
            ],
            "text/html": [
              "<pre style=\"white-space:pre;overflow-x:auto;line-height:normal;font-family:Menlo,'DejaVu Sans Mono',consolas,'Courier New',monospace\">\n",
              "</pre>\n"
            ]
          },
          "metadata": {}
        },
        {
          "output_type": "display_data",
          "data": {
            "text/plain": [
              "\u001b[35mThis apps was built by Sarah Ward\u001b[0m\n"
            ],
            "text/html": [
              "<pre style=\"white-space:pre;overflow-x:auto;line-height:normal;font-family:Menlo,'DejaVu Sans Mono',consolas,'Courier New',monospace\"><span style=\"color: #800080; text-decoration-color: #800080\">This apps was built by Sarah Ward</span>\n",
              "</pre>\n"
            ]
          },
          "metadata": {}
        }
      ],
      "source": [
        "import requests\n",
        "from rich import print\n",
        "from datetime import datetime\n",
        "\n",
        "print(\"[magenta]Welcome to my Weather app![/magenta]\")\n",
        "print(\"\")\n",
        "\n",
        "\n",
        "def displaying_weather(city):\n",
        "  api_key = \"145ba0dc50b14bt75oafffd6a19b4a36\"\n",
        "  api_url = f\"https://api.shecodes.io/weather/v1/current?query=     {city_input}&key={api_key}\"\n",
        "\n",
        "  responses = requests.get(api_url)\n",
        "\n",
        "  weather = responses.json()\n",
        "\n",
        "  current_temp = weather[\"temperature\"][\"current\"]\n",
        "  return (f\"Today's temperature is [red]{round(current_temp)}ºC[/red].\")\n",
        "\n",
        "\n",
        "def displaying_forecast(city_name):\n",
        "  api_key = \"145ba0dc50b14bt75oafffd6a19b4a36\"\n",
        "  forecast_url = f\"https://api.shecodes.io/weather/v1/forecast?query={city_input}&key={api_key}\"\n",
        "  forecast_response = requests.get(forecast_url)\n",
        "  forecast = forecast_response.json()\n",
        "\n",
        "  for day in forecast[\"daily\"]:\n",
        "    timestamp = day['time']\n",
        "    daily = day[\"temperature\"][\"day\"]\n",
        "    date = datetime.fromtimestamp(timestamp)\n",
        "    display_day = date.strftime(\"%A\")\n",
        "    print (f\"[blue]{display_day}[/blue]: {round(daily)}ºC\")\n",
        "\n",
        "\n",
        "city_input = input(\"Enter a City: \")\n",
        "city_input = city_input.strip()\n",
        "city_input = city_input.capitalize()\n",
        "\n",
        "if city_input:\n",
        "  print(displaying_weather(city_input))\n",
        "  print(\"\")\n",
        "  print(\"Forecast for the week ahead:\")\n",
        "  displaying_forecast(city_input)\n",
        "else:\n",
        "  print(\"Please enter a valid city!\")\n",
        "print(\"\")\n",
        "print(\"[magenta]This apps was built by Sarah Ward[/magenta]\")\n"
      ]
    }
  ]
}