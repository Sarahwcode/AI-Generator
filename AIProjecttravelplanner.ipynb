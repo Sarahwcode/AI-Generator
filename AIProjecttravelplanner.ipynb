{
  "nbformat": 4,
  "nbformat_minor": 0,
  "metadata": {
    "colab": {
      "provenance": [],
      "authorship_tag": "ABX9TyODKLl1r3XG8yieWoWoMSq1",
      "include_colab_link": true
    },
    "kernelspec": {
      "name": "python3",
      "display_name": "Python 3"
    },
    "language_info": {
      "name": "python"
    }
  },
  "cells": [
    {
      "cell_type": "markdown",
      "metadata": {
        "id": "view-in-github",
        "colab_type": "text"
      },
      "source": [
        "<a href=\"https://colab.research.google.com/github/Sarahwcode/AI-Generator/blob/main/AIProjecttravelplanner.ipynb\" target=\"_parent\"><img src=\"https://colab.research.google.com/assets/colab-badge.svg\" alt=\"Open In Colab\"/></a>"
      ]
    },
    {
      "cell_type": "code",
      "execution_count": null,
      "metadata": {
        "colab": {
          "base_uri": "https://localhost:8080/",
          "height": 1000
        },
        "id": "4Ah-oWR8IM9x",
        "outputId": "ee9c0a76-181d-482c-8e5b-95a2bdb8a9e1"
      },
      "outputs": [
        {
          "output_type": "display_data",
          "data": {
            "text/plain": [
              "\n",
              "\u001b[35mWelcome to the AI planner App\u001b[0m\n",
              "\n"
            ],
            "text/html": [
              "<pre style=\"white-space:pre;overflow-x:auto;line-height:normal;font-family:Menlo,'DejaVu Sans Mono',consolas,'Courier New',monospace\">\n",
              "<span style=\"color: #800080; text-decoration-color: #800080\">Welcome to the AI planner App</span>\n",
              "\n",
              "</pre>\n"
            ]
          },
          "metadata": {}
        },
        {
          "name": "stdout",
          "output_type": "stream",
          "text": [
            "What city does your trip start from? london\n",
            "What city are you going to? ibiza\n",
            "What is the length of your trip(enter a number value only e.g 5)? 7\n"
          ]
        },
        {
          "output_type": "display_data",
          "data": {
            "text/plain": [
              "\n",
              "\n",
              "The current temperature in london is \u001b[1;36m17\u001b[0m°C and broken clouds\n",
              "\n"
            ],
            "text/html": [
              "<pre style=\"white-space:pre;overflow-x:auto;line-height:normal;font-family:Menlo,'DejaVu Sans Mono',consolas,'Courier New',monospace\">\n",
              "\n",
              "The current temperature in london is <span style=\"color: #008080; text-decoration-color: #008080; font-weight: bold\">17</span>°C and broken clouds\n",
              "\n",
              "</pre>\n"
            ]
          },
          "metadata": {}
        },
        {
          "output_type": "display_data",
          "data": {
            "text/plain": [
              "\n",
              "\n",
              "Generating iteinerary from london to ibiza\u001b[33m...\u001b[0m..\n",
              "\n"
            ],
            "text/html": [
              "<pre style=\"white-space:pre;overflow-x:auto;line-height:normal;font-family:Menlo,'DejaVu Sans Mono',consolas,'Courier New',monospace\">\n",
              "\n",
              "Generating iteinerary from london to ibiza<span style=\"color: #808000; text-decoration-color: #808000\">...</span>..\n",
              "\n",
              "</pre>\n"
            ]
          },
          "metadata": {}
        },
        {
          "output_type": "display_data",
          "data": {
            "text/plain": [
              "                               \u001b[1m7-Day Road Trip Itinerary from London to Ibiza 🌍🚗🌴\u001b[0m                               \n",
              "\n",
              "\u001b[33m───────────────────────────────────────────────────────────────────────────────────────────────────────────────────\u001b[0m\n",
              "                                            \u001b[1;2mDay 1: London to Dover 🚙🌊\u001b[0m                                            \n",
              "\n",
              "\u001b[1;33m • \u001b[0m\u001b[1mDistance:\u001b[0m 85 miles (137 km)                                                                                     \n",
              "\u001b[1;33m • \u001b[0m\u001b[1mActivities:\u001b[0m Visit the White Cliffs of Dover, enjoy local fish and chips.                                        \n",
              "\u001b[1;33m • \u001b[0m\u001b[1mEstimated Price:\u001b[0m £60 (fuel, food, accommodation)                                                                \n",
              "\n",
              "                                         \u001b[1;2mDay 2: Dover to Calais, France 🇫🇷\u001b[0m                                         \n",
              "\n",
              "\u001b[1;33m • \u001b[0m\u001b[1mFerry Crossing:\u001b[0m 1.5 hours                                                                                       \n",
              "\u001b[1;33m • \u001b[0m\u001b[1mActivities:\u001b[0m Explore Calais, visit the beautiful beach and the famous Calais Lighthouse.                         \n",
              "\u001b[1;33m • \u001b[0m\u001b[1mEstimated Price:\u001b[0m £120 (ferry, fuel, food, accommodation)                                                        \n",
              "\n",
              "                                             \u001b[1;2mDay 3: Calais to Paris 🇫🇷\u001b[0m                                             \n",
              "\n",
              "\u001b[1;33m • \u001b[0m\u001b[1mDistance:\u001b[0m 174 miles (280 km)                                                                                    \n",
              "\u001b[1;33m • \u001b[0m\u001b[1mActivities:\u001b[0m Visit the Eiffel Tower, Louvre Museum, and stroll along the Seine.                                  \n",
              "\u001b[1;33m • \u001b[0m\u001b[1mEstimated Price:\u001b[0m £180 (fuel, food, accommodation)                                                               \n",
              "\n",
              "                                              \u001b[1;2mDay 4: Paris to Lyon 🇫🇷\u001b[0m                                              \n",
              "\n",
              "\u001b[1;33m • \u001b[0m\u001b[1mDistance:\u001b[0m 286 miles (460 km)                                                                                    \n",
              "\u001b[1;33m • \u001b[0m\u001b[1mActivities:\u001b[0m Discover Lyon's Old Town, enjoy local cuisine at a traditional Bouchon.                             \n",
              "\u001b[1;33m • \u001b[0m\u001b[1mEstimated Price:\u001b[0m £150 (fuel, food, accommodation)                                                               \n",
              "\n",
              "                                              \u001b[1;2mDay 5: Lyon to Nice 🇫🇷\u001b[0m                                               \n",
              "\n",
              "\u001b[1;33m • \u001b[0m\u001b[1mDistance:\u001b[0m 168 miles (270 km)                                                                                    \n",
              "\u001b[1;33m • \u001b[0m\u001b[1mActivities:\u001b[0m Relax on the Promenade des Anglais, visit the local markets.                                        \n",
              "\u001b[1;33m • \u001b[0m\u001b[1mEstimated Price:\u001b[0m £170 (fuel, food, accommodation)                                                               \n",
              "\n",
              "                                        \u001b[1;2mDay 6: Nice to Barcelona, Spain 🇪🇸\u001b[0m                                         \n",
              "\n",
              "\u001b[1;33m • \u001b[0m\u001b[1mDistance:\u001b[0m 380 miles (610 km)                                                                                    \n",
              "\u001b[1;33m • \u001b[0m\u001b[1mActivities:\u001b[0m Explore La Sagrada Familia, Stroll through Park Güell, and enjoy tapas.                             \n",
              "\u001b[1;33m • \u001b[0m\u001b[1mEstimated Price:\u001b[0m £200 (fuel, food, accommodation)                                                               \n",
              "\n",
              "                                           \u001b[1;2mDay 7: Barcelona to Ibiza 🚢🏖️\u001b[0m                                           \n",
              "\n",
              "\u001b[1;33m • \u001b[0m\u001b[1mTravel:\u001b[0m Ferry from Barcelona to Ibiza (2.5 hours)                                                               \n",
              "\u001b[1;33m • \u001b[0m\u001b[1mActivities:\u001b[0m Beach day at Playa d'en Bossa, explore Ibiza Town.                                                  \n",
              "\u001b[1;33m • \u001b[0m\u001b[1mEstimated Price:\u001b[0m £140 (ferry, food, accommodation)                                                              \n",
              "\n",
              "\u001b[33m───────────────────────────────────────────────────────────────────────────────────────────────────────────────────\u001b[0m\n",
              "                                           \u001b[1mTotal Estimated Cost: £1,120\u001b[0m                                            \n",
              "\n",
              "(Approximate cost per person, varying by preferences and accommodations)                                           \n",
              "\n",
              "Feel free to adjust the destinations, accommodation types, or activities based on your interests and budget! Enjoy \n",
              "your epic road trip! 🚗✨                                                                                          \n"
            ],
            "text/html": [
              "<pre style=\"white-space:pre;overflow-x:auto;line-height:normal;font-family:Menlo,'DejaVu Sans Mono',consolas,'Courier New',monospace\">                               <span style=\"font-weight: bold\">7-Day Road Trip Itinerary from London to Ibiza 🌍🚗🌴</span>                               \n",
              "\n",
              "<span style=\"color: #808000; text-decoration-color: #808000\">───────────────────────────────────────────────────────────────────────────────────────────────────────────────────</span>\n",
              "                                            <span style=\"color: #7f7f7f; text-decoration-color: #7f7f7f; font-weight: bold\">Day 1: London to Dover 🚙🌊</span>                                            \n",
              "\n",
              "<span style=\"color: #808000; text-decoration-color: #808000; font-weight: bold\"> • </span><span style=\"font-weight: bold\">Distance:</span> 85 miles (137 km)                                                                                     \n",
              "<span style=\"color: #808000; text-decoration-color: #808000; font-weight: bold\"> • </span><span style=\"font-weight: bold\">Activities:</span> Visit the White Cliffs of Dover, enjoy local fish and chips.                                        \n",
              "<span style=\"color: #808000; text-decoration-color: #808000; font-weight: bold\"> • </span><span style=\"font-weight: bold\">Estimated Price:</span> £60 (fuel, food, accommodation)                                                                \n",
              "\n",
              "                                         <span style=\"color: #7f7f7f; text-decoration-color: #7f7f7f; font-weight: bold\">Day 2: Dover to Calais, France 🇫🇷</span>                                         \n",
              "\n",
              "<span style=\"color: #808000; text-decoration-color: #808000; font-weight: bold\"> • </span><span style=\"font-weight: bold\">Ferry Crossing:</span> 1.5 hours                                                                                       \n",
              "<span style=\"color: #808000; text-decoration-color: #808000; font-weight: bold\"> • </span><span style=\"font-weight: bold\">Activities:</span> Explore Calais, visit the beautiful beach and the famous Calais Lighthouse.                         \n",
              "<span style=\"color: #808000; text-decoration-color: #808000; font-weight: bold\"> • </span><span style=\"font-weight: bold\">Estimated Price:</span> £120 (ferry, fuel, food, accommodation)                                                        \n",
              "\n",
              "                                             <span style=\"color: #7f7f7f; text-decoration-color: #7f7f7f; font-weight: bold\">Day 3: Calais to Paris 🇫🇷</span>                                             \n",
              "\n",
              "<span style=\"color: #808000; text-decoration-color: #808000; font-weight: bold\"> • </span><span style=\"font-weight: bold\">Distance:</span> 174 miles (280 km)                                                                                    \n",
              "<span style=\"color: #808000; text-decoration-color: #808000; font-weight: bold\"> • </span><span style=\"font-weight: bold\">Activities:</span> Visit the Eiffel Tower, Louvre Museum, and stroll along the Seine.                                  \n",
              "<span style=\"color: #808000; text-decoration-color: #808000; font-weight: bold\"> • </span><span style=\"font-weight: bold\">Estimated Price:</span> £180 (fuel, food, accommodation)                                                               \n",
              "\n",
              "                                              <span style=\"color: #7f7f7f; text-decoration-color: #7f7f7f; font-weight: bold\">Day 4: Paris to Lyon 🇫🇷</span>                                              \n",
              "\n",
              "<span style=\"color: #808000; text-decoration-color: #808000; font-weight: bold\"> • </span><span style=\"font-weight: bold\">Distance:</span> 286 miles (460 km)                                                                                    \n",
              "<span style=\"color: #808000; text-decoration-color: #808000; font-weight: bold\"> • </span><span style=\"font-weight: bold\">Activities:</span> Discover Lyon's Old Town, enjoy local cuisine at a traditional Bouchon.                             \n",
              "<span style=\"color: #808000; text-decoration-color: #808000; font-weight: bold\"> • </span><span style=\"font-weight: bold\">Estimated Price:</span> £150 (fuel, food, accommodation)                                                               \n",
              "\n",
              "                                              <span style=\"color: #7f7f7f; text-decoration-color: #7f7f7f; font-weight: bold\">Day 5: Lyon to Nice 🇫🇷</span>                                               \n",
              "\n",
              "<span style=\"color: #808000; text-decoration-color: #808000; font-weight: bold\"> • </span><span style=\"font-weight: bold\">Distance:</span> 168 miles (270 km)                                                                                    \n",
              "<span style=\"color: #808000; text-decoration-color: #808000; font-weight: bold\"> • </span><span style=\"font-weight: bold\">Activities:</span> Relax on the Promenade des Anglais, visit the local markets.                                        \n",
              "<span style=\"color: #808000; text-decoration-color: #808000; font-weight: bold\"> • </span><span style=\"font-weight: bold\">Estimated Price:</span> £170 (fuel, food, accommodation)                                                               \n",
              "\n",
              "                                        <span style=\"color: #7f7f7f; text-decoration-color: #7f7f7f; font-weight: bold\">Day 6: Nice to Barcelona, Spain 🇪🇸</span>                                         \n",
              "\n",
              "<span style=\"color: #808000; text-decoration-color: #808000; font-weight: bold\"> • </span><span style=\"font-weight: bold\">Distance:</span> 380 miles (610 km)                                                                                    \n",
              "<span style=\"color: #808000; text-decoration-color: #808000; font-weight: bold\"> • </span><span style=\"font-weight: bold\">Activities:</span> Explore La Sagrada Familia, Stroll through Park Güell, and enjoy tapas.                             \n",
              "<span style=\"color: #808000; text-decoration-color: #808000; font-weight: bold\"> • </span><span style=\"font-weight: bold\">Estimated Price:</span> £200 (fuel, food, accommodation)                                                               \n",
              "\n",
              "                                           <span style=\"color: #7f7f7f; text-decoration-color: #7f7f7f; font-weight: bold\">Day 7: Barcelona to Ibiza 🚢🏖️</span>                                           \n",
              "\n",
              "<span style=\"color: #808000; text-decoration-color: #808000; font-weight: bold\"> • </span><span style=\"font-weight: bold\">Travel:</span> Ferry from Barcelona to Ibiza (2.5 hours)                                                               \n",
              "<span style=\"color: #808000; text-decoration-color: #808000; font-weight: bold\"> • </span><span style=\"font-weight: bold\">Activities:</span> Beach day at Playa d'en Bossa, explore Ibiza Town.                                                  \n",
              "<span style=\"color: #808000; text-decoration-color: #808000; font-weight: bold\"> • </span><span style=\"font-weight: bold\">Estimated Price:</span> £140 (ferry, food, accommodation)                                                              \n",
              "\n",
              "<span style=\"color: #808000; text-decoration-color: #808000\">───────────────────────────────────────────────────────────────────────────────────────────────────────────────────</span>\n",
              "                                           <span style=\"font-weight: bold\">Total Estimated Cost: £1,120</span>                                            \n",
              "\n",
              "(Approximate cost per person, varying by preferences and accommodations)                                           \n",
              "\n",
              "Feel free to adjust the destinations, accommodation types, or activities based on your interests and budget! Enjoy \n",
              "your epic road trip! 🚗✨                                                                                          \n",
              "</pre>\n"
            ]
          },
          "metadata": {}
        },
        {
          "output_type": "display_data",
          "data": {
            "text/plain": [
              "\n",
              "\n",
              "The temperature in ibiza will be \u001b[1;36m17\u001b[0m°C and scattered clouds on Friday\n",
              "\n"
            ],
            "text/html": [
              "<pre style=\"white-space:pre;overflow-x:auto;line-height:normal;font-family:Menlo,'DejaVu Sans Mono',consolas,'Courier New',monospace\">\n",
              "\n",
              "The temperature in ibiza will be <span style=\"color: #008080; text-decoration-color: #008080; font-weight: bold\">17</span>°C and scattered clouds on Friday\n",
              "\n",
              "</pre>\n"
            ]
          },
          "metadata": {}
        },
        {
          "output_type": "display_data",
          "data": {
            "text/plain": [
              "\n",
              "\n",
              "The temperature in ibiza will be \u001b[1;36m19\u001b[0m°C and light rain on Saturday\n",
              "\n"
            ],
            "text/html": [
              "<pre style=\"white-space:pre;overflow-x:auto;line-height:normal;font-family:Menlo,'DejaVu Sans Mono',consolas,'Courier New',monospace\">\n",
              "\n",
              "The temperature in ibiza will be <span style=\"color: #008080; text-decoration-color: #008080; font-weight: bold\">19</span>°C and light rain on Saturday\n",
              "\n",
              "</pre>\n"
            ]
          },
          "metadata": {}
        },
        {
          "output_type": "display_data",
          "data": {
            "text/plain": [
              "\n",
              "\n",
              "The temperature in ibiza will be \u001b[1;36m18\u001b[0m°C and light rain on Sunday\n",
              "\n"
            ],
            "text/html": [
              "<pre style=\"white-space:pre;overflow-x:auto;line-height:normal;font-family:Menlo,'DejaVu Sans Mono',consolas,'Courier New',monospace\">\n",
              "\n",
              "The temperature in ibiza will be <span style=\"color: #008080; text-decoration-color: #008080; font-weight: bold\">18</span>°C and light rain on Sunday\n",
              "\n",
              "</pre>\n"
            ]
          },
          "metadata": {}
        },
        {
          "output_type": "display_data",
          "data": {
            "text/plain": [
              "\n",
              "\n",
              "The temperature in ibiza will be \u001b[1;36m17\u001b[0m°C and moderate rain on Monday\n",
              "\n"
            ],
            "text/html": [
              "<pre style=\"white-space:pre;overflow-x:auto;line-height:normal;font-family:Menlo,'DejaVu Sans Mono',consolas,'Courier New',monospace\">\n",
              "\n",
              "The temperature in ibiza will be <span style=\"color: #008080; text-decoration-color: #008080; font-weight: bold\">17</span>°C and moderate rain on Monday\n",
              "\n",
              "</pre>\n"
            ]
          },
          "metadata": {}
        },
        {
          "output_type": "display_data",
          "data": {
            "text/plain": [
              "\n",
              "\n",
              "The temperature in ibiza will be \u001b[1;36m17\u001b[0m°C and light rain on Tuesday\n",
              "\n"
            ],
            "text/html": [
              "<pre style=\"white-space:pre;overflow-x:auto;line-height:normal;font-family:Menlo,'DejaVu Sans Mono',consolas,'Courier New',monospace\">\n",
              "\n",
              "The temperature in ibiza will be <span style=\"color: #008080; text-decoration-color: #008080; font-weight: bold\">17</span>°C and light rain on Tuesday\n",
              "\n",
              "</pre>\n"
            ]
          },
          "metadata": {}
        },
        {
          "output_type": "display_data",
          "data": {
            "text/plain": [
              "\n",
              "\n",
              "The temperature in ibiza will be \u001b[1;36m15\u001b[0m°C and light rain on Wednesday\n",
              "\n"
            ],
            "text/html": [
              "<pre style=\"white-space:pre;overflow-x:auto;line-height:normal;font-family:Menlo,'DejaVu Sans Mono',consolas,'Courier New',monospace\">\n",
              "\n",
              "The temperature in ibiza will be <span style=\"color: #008080; text-decoration-color: #008080; font-weight: bold\">15</span>°C and light rain on Wednesday\n",
              "\n",
              "</pre>\n"
            ]
          },
          "metadata": {}
        },
        {
          "output_type": "display_data",
          "data": {
            "text/plain": [
              "\n",
              "\n",
              "The temperature in ibiza will be \u001b[1;36m17\u001b[0m°C and sky is clear on Thursday\n",
              "\n"
            ],
            "text/html": [
              "<pre style=\"white-space:pre;overflow-x:auto;line-height:normal;font-family:Menlo,'DejaVu Sans Mono',consolas,'Courier New',monospace\">\n",
              "\n",
              "The temperature in ibiza will be <span style=\"color: #008080; text-decoration-color: #008080; font-weight: bold\">17</span>°C and sky is clear on Thursday\n",
              "\n",
              "</pre>\n"
            ]
          },
          "metadata": {}
        },
        {
          "output_type": "display_data",
          "data": {
            "text/plain": [
              " \u001b[31mThis travel planner was coded by \u001b[0m\u001b[1;31mSarah Ward\u001b[0m\u001b[31m, thank you for using it.\u001b[0m\n"
            ],
            "text/html": [
              "<pre style=\"white-space:pre;overflow-x:auto;line-height:normal;font-family:Menlo,'DejaVu Sans Mono',consolas,'Courier New',monospace\"> <span style=\"color: #800000; text-decoration-color: #800000\">This travel planner was coded by </span><span style=\"color: #800000; text-decoration-color: #800000; font-weight: bold\">Sarah Ward</span><span style=\"color: #800000; text-decoration-color: #800000\">, thank you for using it.</span>\n",
              "</pre>\n"
            ]
          },
          "metadata": {}
        }
      ],
      "source": [
        "import requests\n",
        "from rich import print\n",
        "from rich.markdown import Markdown\n",
        "from datetime import datetime\n",
        "\n",
        "def weather_api(origin):\n",
        "  apiKey = \"145ba0dc50b14bt75oafffd6a19b4a36\"\n",
        "  apiUrl = f\"https://api.shecodes.io/weather/v1/current?query={origin}&key={apiKey}\"\n",
        "  responses = requests.get(apiUrl)\n",
        "  weather = responses.json()\n",
        "  current_weather = weather[\"temperature\"][\"current\"]\n",
        "  current_condition = weather[\"condition\"][\"description\"]\n",
        "  print(f\"\\n\\nThe current temperature in {origin} is {round(current_weather)}°C and {current_condition}\\n\")\n",
        "\n",
        "def weather_forecast_api(destination):\n",
        "  apiKey = \"145ba0dc50b14bt75oafffd6a19b4a36\"\n",
        "  apiUrl = f\"https://api.shecodes.io/weather/v1/forecast?query={destination}&key={apiKey}\"\n",
        "  responses = requests.get(apiUrl)\n",
        "  weather = responses.json()\n",
        "  for daily in weather[\"daily\"]:\n",
        "    timestamp = daily['time']\n",
        "    daily_weather = daily[\"temperature\"][\"day\"]\n",
        "    daily_condition = daily[\"condition\"][\"description\"]\n",
        "    date = datetime.fromtimestamp(timestamp)\n",
        "    display_daily = date.strftime(\"%A\")\n",
        "    print(f\"\\n\\nThe temperature in {destination} will be {round(daily_weather)}°C and {daily_condition} on {display_daily}\\n\")\n",
        "\n",
        "\n",
        "def ai_calling(origin, destination, duration):\n",
        "  print(f\"\\n\\nGenerating iteinerary from {origin} to {destination}.....\\n\")\n",
        "  api_prompt = f\"Can you create a itinerary from {origin} to {destination} within {duration}. this is a road trip so keep it short and add some emojis. Also add a estimated price for each day please.\"\n",
        "  api_context = f\"you are a travel speacilist and know th best destinations in the world\"\n",
        "  api_key = \"145ba0dc50b14bt75oafffd6a19b4a36\"\n",
        "  api_key = f\"https://api.shecodes.io/ai/v1/generate?prompt={api_prompt}&context={api_context}&key={api_key}\"\n",
        "  f\"https://api.shecodes.io/ai/v1/generate?prompt={api_prompt}&context={api_context}&key={api_key}\"\n",
        "  response = requests.get(api_key)\n",
        "  displaying = response.json()\n",
        "  clean_up = Markdown(displaying[\"answer\"])\n",
        "  print(clean_up)\n",
        "\n",
        "def welcome_message():\n",
        "  print(\"\\n[magenta]Welcome to the AI planner App[/magenta]\\n\")\n",
        "\n",
        "def credit():\n",
        "  print(\" [red]This travel planner was coded by [bold]Sarah Ward[/bold], thank you for using it.[/red]\")\n",
        "\n",
        "welcome_message()\n",
        "origin = input(\"What city does your trip start from? \").strip()\n",
        "destination = input(\"What city are you going to? \").strip()\n",
        "duration = input(\"What is the length of your trip(enter a number value only e.g 5)? \")\n",
        "\n",
        "\n",
        "if (origin and destination and duration.isdigit()):\n",
        "  weather_api(origin)\n",
        "  ai_calling(origin, destination, duration)\n",
        "  weather_forecast_api(destination)\n",
        "  credit()\n",
        "else:\n",
        "   print(\"Please enter valid information and please try again\")\n",
        "\n",
        "\n",
        "\n",
        "#user input destination, origin, duration\n",
        "#call AI API\n",
        "#display iteninary\n",
        "#call weather API\n",
        "#Display the weather in origin and destination\n",
        "#final touches(add credits, few improvements and potential)"
      ]
    }
  ]
}